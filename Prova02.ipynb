{
 "cells": [
  {
   "cell_type": "markdown",
   "id": "bd0a9714-f012-4ab3-8ea2-7cf1fabd73d0",
   "metadata": {},
   "source": [
    "# CIÊNCIA DE DADOS PARA NEGÓCIOS - PROVA 02 \n",
    "\n",
    "**Disciplina:** Algoritmos e Estrutura de Dados\n",
    "\n",
    "**Professor:** Dilermando Piva Jr.\n"
   ]
  },
  {
   "cell_type": "markdown",
   "id": "2499cc5f-509c-4b9e-ac90-2266443a49f6",
   "metadata": {},
   "source": [
    "#### **`Enunciado`**\n",
    "Imagine que você é responsável por monitorar o consumo de energia elétrica em uma empresa durante um mês.\n",
    "\n",
    "A empresa deseja saber a média de consumo diário de energia para implementar medidas de eficiência energética. Você recebe uma lista com o consumo diário de energia (em kWh) durante os 30 dias do mês e precisa calcular a média desse consumo.\n",
    "\n",
    "Para isso, você decide escrever `UMA FUNÇÃO` escrita em Python que vai receber como parâmetro `UMA LISTA` contendo esses 30 registros e ela vai retornar a média de consumo."
   ]
  },
  {
   "cell_type": "code",
   "execution_count": 16,
   "id": "2722a924-27a7-498d-adfc-dd67e5162167",
   "metadata": {},
   "outputs": [],
   "source": [
    "# Importando bibliotecas\n",
    "import pandas as pd\n",
    "\n",
    "# Valores de consumo diário\n",
    "consumo_diario = [50, 45, 55, 60, 48, 52, 47, 49, 53, 51, 50, 46, 54, 61, 49, 53, 48, 50, 52, 47, 56, 50, 55, 60, 48, 52, 47, 49, 53, 51]"
   ]
  },
  {
   "cell_type": "code",
   "execution_count": 39,
   "id": "6ad0f5b4-39a3-4baf-964b-11fc6a1b8947",
   "metadata": {},
   "outputs": [],
   "source": [
    "# Consumo médio diário\n",
    "lista = pd.Series(consumo_diario)\n",
    "\n",
    "def consumo(lista):\n",
    "    consumo_medio = lista.mean()\n",
    "    return consumo_medio"
   ]
  },
  {
   "cell_type": "code",
   "execution_count": 40,
   "id": "bb70f50d-b40c-414c-ac78-22624226e5f4",
   "metadata": {},
   "outputs": [
    {
     "name": "stdout",
     "output_type": "stream",
     "text": [
      "O consumo diário médio foi: 51.36666666666667\n"
     ]
    }
   ],
   "source": [
    "# teste\n",
    "print(f\"O consumo diário médio foi: {consumo(lista)}\")"
   ]
  }
 ],
 "metadata": {
  "kernelspec": {
   "display_name": "Python 3 (ipykernel)",
   "language": "python",
   "name": "python3"
  },
  "language_info": {
   "codemirror_mode": {
    "name": "ipython",
    "version": 3
   },
   "file_extension": ".py",
   "mimetype": "text/x-python",
   "name": "python",
   "nbconvert_exporter": "python",
   "pygments_lexer": "ipython3",
   "version": "3.12.4"
  }
 },
 "nbformat": 4,
 "nbformat_minor": 5
}
